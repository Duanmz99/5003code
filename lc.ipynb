{
 "cells": [
  {
   "cell_type": "code",
   "execution_count": 1,
   "metadata": {},
   "outputs": [],
   "source": [
    "import random\n",
    "import numpy as np\n",
    "import math\n",
    "from hashlib import sha1"
   ]
  },
  {
   "cell_type": "code",
   "execution_count": 179,
   "metadata": {},
   "outputs": [],
   "source": [
    "class hll_demo(object):\n",
    "    def __init__(self, num_range, num_total):\n",
    "        # set hash function, default hash table, b value\n",
    "        self.hashfunc=sha1\n",
    "        self.bucket={}\n",
    "        self.b=5\n",
    "        for i in range(pow(2, self.b)):\n",
    "            key=bin(i)[2:].zfill(self.b)\n",
    "            self.bucket[key]=0\n",
    "        self.num_range=num_range\n",
    "        self.num_total=num_total\n",
    "        \n",
    "    def generate(self):\n",
    "        list1=[]\n",
    "        list2=[]\n",
    "        for i in range(self.num_range):\n",
    "            list1.append(str(i))\n",
    "#         np.random.seed(422)\n",
    "        list2=np.random.choice(list1, size=self.num_total-self.num_range, replace=True).tolist()\n",
    "        list1.extend(list2)\n",
    "        random.shuffle(list1)\n",
    "#         print(list1)\n",
    "        return list1\n",
    "    \n",
    "    def hash_process(self, iterator):\n",
    "        result=[]\n",
    "        for item in iterator:\n",
    "            s1=self.hashfunc()\n",
    "            s1.update(item.encode())\n",
    "            res=s1.hexdigest()\n",
    "            result.append(bin(int(res, 16))[2:])\n",
    "        return result\n",
    "    \n",
    "    def seperate_to_each_bucket(self, iterator):\n",
    "        for item in iterator:\n",
    "            bucket_id, value=item[:5], item[5:]\n",
    "            for i in range(len(value)):\n",
    "                if value[i]=='1':\n",
    "                    if self.bucket[bucket_id]<i+1:\n",
    "                        self.bucket[bucket_id]=i+1\n",
    "                    break\n",
    "                else:\n",
    "                    continue\n",
    "\n",
    "    def compute_empty_bucket(self):\n",
    "        num=0\n",
    "        for v in self.bucket.values():\n",
    "            if v==0:\n",
    "                num+=1\n",
    "        return num\n",
    "                \n",
    "    def hhl_compute_cardinality(self):\n",
    "        sums=0\n",
    "        m=0\n",
    "        for k, v in self.bucket.items():\n",
    "            if v>0:\n",
    "                sums+=pow(2, -v)\n",
    "                m+=1\n",
    "        return (1/sums)*pow(m, 2)*0.697   \n",
    "    \n",
    "    def hll(self):\n",
    "        samples=self.generate()\n",
    "        hashed_samples=self.hash_process(samples)\n",
    "        self.seperate_to_each_bucket(hashed_samples)\n",
    "        return int(self.hhl_compute_cardinality())\n",
    "        \n",
    "#     E = self.alpha * float(self.m ** 2) / sum(math.pow(2.0, -x) for x in self.M)"
   ]
  },
  {
   "cell_type": "code",
   "execution_count": 180,
   "metadata": {},
   "outputs": [
    {
     "name": "stdout",
     "output_type": "stream",
     "text": [
      "1\n"
     ]
    }
   ],
   "source": [
    "test=hll_demo(1, 2)\n",
    "print(test.hll())"
   ]
  },
  {
   "cell_type": "code",
   "execution_count": 2,
   "metadata": {},
   "outputs": [],
   "source": [
    "class lc_demo(object):\n",
    "    def __init__(self, num_range, num_total):\n",
    "        # set hash function, default hash table, b value\n",
    "        self.hashfunc=sha1\n",
    "        self.bucket={}\n",
    "        self.b=10\n",
    "        for i in range(pow(2, self.b)):\n",
    "            key=bin(i)[2:].zfill(self.b)\n",
    "            self.bucket[key]=0\n",
    "        self.num_range=num_range\n",
    "        self.num_total=num_total\n",
    "        \n",
    "    def generate(self):\n",
    "        list1=[]\n",
    "        list2=[]\n",
    "        for i in range(self.num_range):\n",
    "            list1.append(str(i))\n",
    "        np.random.seed(422)\n",
    "        list2=np.random.choice(list1, size=self.num_total-self.num_range, replace=True).tolist()\n",
    "        list1.extend(list2)\n",
    "        return list1\n",
    "    \n",
    "    def hash_process(self, iterator):\n",
    "        result=[]\n",
    "        for item in iterator:\n",
    "            s1=self.hashfunc()\n",
    "            s1.update(item.encode())\n",
    "            res=s1.hexdigest()\n",
    "            result.append(bin(int(res, 16))[2:])\n",
    "        return result\n",
    "    \n",
    "    def seperate_to_each_bucket(self, iterator):\n",
    "        for item in iterator:\n",
    "            bucket_id, value=item[:self.b], item[self.b:]\n",
    "            for i in range(len(value)):\n",
    "                if value[i]=='1':\n",
    "                    if self.bucket[bucket_id]<i+1:\n",
    "                        self.bucket[bucket_id]=i+1\n",
    "                    break\n",
    "                else:\n",
    "                    continue\n",
    "\n",
    "    def compute_empty_bucket(self):\n",
    "        num=0\n",
    "        for v in self.bucket.values():\n",
    "            if v==0:\n",
    "                num+=1\n",
    "        return num\n",
    "    \n",
    "    def lc_compute_cardinality(self):\n",
    "        V=self.compute_empty_bucket()\n",
    "        return pow(2, self.b)*(math.log(pow(2,self.b)/V))\n",
    "    \n",
    "    def lc(self):\n",
    "        samples=self.generate()\n",
    "        hashed_samples=self.hash_process(samples)\n",
    "        self.seperate_to_each_bucket(hashed_samples)\n",
    "        return int(self.lc_compute_cardinality())\n",
    "        \n",
    "    \n",
    "#     E = self.alpha * float(self.m ** 2) / sum(math.pow(2.0, -x) for x in self.M)"
   ]
  },
  {
   "cell_type": "code",
   "execution_count": 5,
   "metadata": {},
   "outputs": [
    {
     "name": "stdout",
     "output_type": "stream",
     "text": [
      "12\n"
     ]
    }
   ],
   "source": [
    "test=lc_demo(12, 288)\n",
    "print(test.lc())\n"
   ]
  },
  {
   "cell_type": "code",
   "execution_count": null,
   "metadata": {},
   "outputs": [],
   "source": []
  }
 ],
 "metadata": {
  "kernelspec": {
   "display_name": "Python 3",
   "language": "python",
   "name": "python3"
  },
  "language_info": {
   "codemirror_mode": {
    "name": "ipython",
    "version": 3
   },
   "file_extension": ".py",
   "mimetype": "text/x-python",
   "name": "python",
   "nbconvert_exporter": "python",
   "pygments_lexer": "ipython3",
   "version": "3.7.7"
  }
 },
 "nbformat": 4,
 "nbformat_minor": 5
}
